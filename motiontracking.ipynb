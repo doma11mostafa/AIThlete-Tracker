{
 "cells": [
  {
   "cell_type": "markdown",
   "metadata": {},
   "source": [
    "**Import Libiraries**"
   ]
  },
  {
   "cell_type": "code",
   "execution_count": null,
   "metadata": {},
   "outputs": [],
   "source": [
    "import cv2 as cv\n",
    "import numpy as np\n",
    "from ultralytics import YOLO\n",
    "import pyttsx3    #text to speach\n",
    "import threading  #for multi threading \n",
    "import queue\n",
    "import cvzone\n",
    "import speech_recognition as sr\n",
    " "
   ]
  },
  {
   "cell_type": "markdown",
   "metadata": {},
   "source": [
    "**Download model for pose estimation**"
   ]
  },
  {
   "cell_type": "code",
   "execution_count": null,
   "metadata": {},
   "outputs": [],
   "source": [
    "model =YOLO(r\"C:\\yolo11n-pose.pt\")\n",
    "cap=cv.VideoCapture(0)\n"
   ]
  },
  {
   "cell_type": "code",
   "execution_count": null,
   "metadata": {},
   "outputs": [],
   "source": [
    "up_thresh = 170\n",
    "down_thresh = 45\n",
    "triceps_up_thresh = 160\n",
    "triceps_down_thresh = 90\n",
    "leg_up_thresh = 170\n",
    "leg_down_thresh = 90\n",
    "\n",
    "push_up_left = False\n",
    "push_up_right = False\n",
    "combine = False\n",
    "triceps_down = False\n",
    "leg_down = False\n",
    "\n",
    "left_hand_counter = 0\n",
    "right_hand_counter = 0\n",
    "combine_counter = 0\n",
    "triceps_counter = 0\n",
    "leg_counter = 0\n",
    "\n",
    "mode = None"
   ]
  },
  {
   "cell_type": "code",
   "execution_count": null,
   "metadata": {},
   "outputs": [],
   "source": [
    "engine= pyttsx3.init()\n",
    "voices=engine.getProperty('voices')\n",
    "engine.setProperty('voice',voices[0].id)\n",
    "engine.setProperty('rate',150)\n",
    "speech_queue=queue.Queue()\n"
   ]
  },
  {
   "cell_type": "markdown",
   "metadata": {},
   "source": [
    "**Calculating angles**\n"
   ]
  },
  {
   "cell_type": "code",
   "execution_count": null,
   "metadata": {},
   "outputs": [],
   "source": [
    "def calculate_angle(a,b,c):\n",
    "    a=np.array(a)\n",
    "    b=np.array(b)\n",
    "    c=np.array(c)\n",
    "    \n",
    "    radians= np.arctan2(c[1]-b[1],c[0]-b[0])-np.arctan2(a[1]-b[1],a[0]-b[0])\n",
    "    #we have to convert the angle to degrees\n",
    "    angle=np.abs(radians*180.0/np.pi)\n",
    "    \n",
    "    if angle>180.0:   #degrees\n",
    "        angle=360-angle #to decide the wider angle\n",
    "    return angle    "
   ]
  },
  {
   "cell_type": "markdown",
   "metadata": {},
   "source": [
    "**Adapting speech to text and reverse**"
   ]
  },
  {
   "cell_type": "code",
   "execution_count": null,
   "metadata": {},
   "outputs": [],
   "source": [
    "#speaking function\n",
    "def speak(text):\n",
    "    speech_queue.put(text)"
   ]
  },
  {
   "cell_type": "code",
   "execution_count": null,
   "metadata": {},
   "outputs": [],
   "source": [
    "def worker_speak():\n",
    "    while True:\n",
    "        text= speech_queue.get()\n",
    "        if text is None:\n",
    "            break\n",
    "        engine.say(text)\n",
    "        engine.runAndWait()"
   ]
  },
  {
   "cell_type": "markdown",
   "metadata": {},
   "source": [
    "**Training modes**"
   ]
  },
  {
   "cell_type": "code",
   "execution_count": null,
   "metadata": {},
   "outputs": [],
   "source": [
    "def set_mode(new_mode):\n",
    "    global mode\n",
    "    mode = new_mode\n",
    "\n",
    "def listen_commands():\n",
    "    recognizer = sr.Recognizer()\n",
    "    mic = sr.Microphone()\n",
    "    while True:\n",
    "        with mic as source:\n",
    "            recognizer.adjust_for_ambient_noise(source)  # to filter noices\n",
    "                print(\"im listening\")\n",
    "                audio = recognizer.listen(source)\n",
    "                commands = recognizer.recognize_google(audio).lower()\n",
    "                print(commands)\n",
    "                if \"normal\" in commands:\n",
    "                    speak(\"normal mode started\")\n",
    "                    set_mode(\"normal\")\n",
    "                elif \"combine\" in commands:\n",
    "                    speak(\"combine mode started\")\n",
    "                    set_mode(\"combine\")\n",
    "                elif \"triceps\" in commands:\n",
    "                    speak(\"triceps mode started\")\n",
    "                    set_mode(\"triceps\")\n",
    "                elif \"legs\" in commands:\n",
    "                    speak(\"legs mode started\")\n",
    "                    set_mode(\"legs\")\n",
    "                elif \"stop\" in commands:\n",
    "                    speak(\"take care and goodbye\")\n",
    "                    set_mode(\"stop\")\n",
    "                    break \n",
    "   \n",
    "            "
   ]
  },
  {
   "cell_type": "markdown",
   "metadata": {},
   "source": [
    "**Threading processes**"
   ]
  },
  {
   "cell_type": "code",
   "execution_count": null,
   "metadata": {},
   "outputs": [],
   "source": [
    "thread_speak=threading.Thread(target=worker_speak,daemon=True)\n",
    "thread_speak.start()\n",
    "thread_listen=threading.Thread(target=listen_commands,daemon=True)\n",
    "thread_listen.start()"
   ]
  },
  {
   "cell_type": "markdown",
   "metadata": {},
   "source": [
    "**Main loop for video capturing**"
   ]
  },
  {
   "cell_type": "code",
   "execution_count": null,
   "metadata": {},
   "outputs": [],
   "source": [
    "while True:\n",
    "    ret, frame = cap.read()\n",
    "    if not ret:\n",
    "        break\n",
    "    frame = cv.resize(frame, (720, 480))\n",
    "    result = model.track(frame)\n",
    "\n",
    "    if result[0].keypoints is not None:\n",
    "        Keypoints = result[0].keypoints.xy.cpu().numpy()  # to convert the tensor to numpy array [[[]]]\n",
    "\n",
    "        for keypoint in Keypoints:\n",
    "            if len(keypoint) > 0:\n",
    "                for i, point in enumerate(keypoint):\n",
    "                    cx, cy = int(point[0]), int(point[1])\n",
    "                    cv.circle(frame, (cx, cy), 5, (255, 0, 0), -1)\n",
    "                    cvzone.putTextRect(frame, f'{i}', (cx, cy), 1, 1)\n",
    "\n",
    "                if mode and len(keypoint) > 15:  # Ensure enough keypoints are detected for legs\n",
    "                    # Arm keypoints\n",
    "                    left_shoulder = (int(keypoint[5][0]), int(keypoint[5][1]))\n",
    "                    left_elbow = (int(keypoint[7][0]), int(keypoint[7][1]))\n",
    "                    left_wrist = (int(keypoint[9][0]), int(keypoint[9][1]))\n",
    "                    right_shoulder = (int(keypoint[6][0]), int(keypoint[6][1]))\n",
    "                    right_elbow = (int(keypoint[8][0]), int(keypoint[8][1]))\n",
    "                    right_wrist = (int(keypoint[10][0]), int(keypoint[10][1]))\n",
    "\n",
    "                    # Leg keypoints\n",
    "                    left_hip = (int(keypoint[11][0]), int(keypoint[11][1]))\n",
    "                    left_knee = (int(keypoint[13][0]), int(keypoint[13][1]))\n",
    "                    left_ankle = (int(keypoint[15][0]), int(keypoint[15][1]))\n",
    "\n",
    "                    if mode == \"triceps\":\n",
    "                        right_hand_angle = calculate_angle(right_shoulder, right_elbow, right_wrist)\n",
    "                        cvzone.putTextRect(frame, f'Right Arm Angle: {int(right_hand_angle)}', (50, 80), 1, 1, colorR=(0, 0, 255))\n",
    "\n",
    "                        if right_hand_angle > triceps_up_thresh and not triceps_down:\n",
    "                            triceps_down = True\n",
    "                        elif right_hand_angle < triceps_down_thresh and triceps_down:\n",
    "                            triceps_counter += 1\n",
    "                            speak(f'triceps {triceps_counter}')\n",
    "                            triceps_down = False\n",
    "\n",
    "                    elif mode == \"legs\":\n",
    "                        leg_angle = calculate_angle(left_hip, left_knee, left_ankle)\n",
    "                        cvzone.putTextRect(frame, f'Leg Angle: {int(leg_angle)}', (50, 50), 1, 1, colorR=(255, 0, 0))\n",
    "\n",
    "                        if leg_angle < leg_down_thresh and not leg_down:\n",
    "                            leg_down = True\n",
    "                        elif leg_angle > leg_up_thresh and leg_down:\n",
    "                            leg_counter += 1\n",
    "                            speak(f'leg {leg_counter}')\n",
    "                            leg_down = False\n",
    "\n",
    "                    elif mode in [\"normal\", \"combine\"]:\n",
    "                        left_hand_angle = calculate_angle(left_shoulder, left_elbow, left_wrist)\n",
    "                        right_hand_angle = calculate_angle(right_shoulder, right_elbow, right_wrist)\n",
    "\n",
    "                        cvzone.putTextRect(frame, f'Left Arm Angle: {int(left_hand_angle)}', (50, 50), 1, 1, colorR=(255, 0, 0))\n",
    "                        cvzone.putTextRect(frame, f'Right Arm Angle: {int(right_hand_angle)}', (50, 80), 1, 1, colorR=(0, 0, 255))\n",
    "\n",
    "                        if mode == \"normal\":\n",
    "                            if left_hand_angle < down_thresh and not push_up_left:\n",
    "                                push_up_left = True\n",
    "                            elif left_hand_angle > up_thresh and push_up_left:\n",
    "                                left_hand_counter += 1\n",
    "                                speak(f'left {left_hand_counter}')\n",
    "                                push_up_left = False\n",
    "\n",
    "                            if right_hand_angle < down_thresh and not push_up_right:\n",
    "                                push_up_right = True\n",
    "                            elif right_hand_angle > up_thresh and push_up_right:\n",
    "                                right_hand_counter += 1\n",
    "                                speak(f'Right {right_hand_counter}')\n",
    "                                push_up_right = False\n",
    "\n",
    "                        elif mode == \"combine\":\n",
    "                            if right_hand_angle <= down_thresh and left_hand_angle <= down_thresh and not combine:\n",
    "                                combine = True\n",
    "                            elif left_hand_angle >= up_thresh and right_hand_angle >= up_thresh and combine:\n",
    "                                combine_counter += 1\n",
    "                                speak(f\"combine {combine_counter}\")\n",
    "                                combine = False\n",
    "\n",
    "    if mode == 'normal':\n",
    "        cvzone.putTextRect(frame, f'Left hand counter: {int(left_hand_counter)}', (50, 110), 1, 1, colorR=(0, 0, 0))\n",
    "        cvzone.putTextRect(frame, f'Right hand counter: {int(right_hand_counter)}', (50, 140), 1, 1, colorR=(0, 0, 0))\n",
    "    elif mode == 'combine':\n",
    "        cvzone.putTextRect(frame, f'Combine counter: {int(combine_counter)}', (50, 110), 1, 1, colorR=(0, 0, 0))\n",
    "    elif mode == 'triceps':\n",
    "        cvzone.putTextRect(frame, f'Triceps counter: {int(triceps_counter)}', (50, 110), 1, 1, colorR=(0, 0, 0))\n",
    "    elif mode == 'legs':\n",
    "        cvzone.putTextRect(frame, f'Leg counter: {int(leg_counter)}', (50, 110), 1, 1, colorR=(0, 0, 0))\n",
    "\n",
    "    cv.imshow(\"RGB\", frame)\n",
    "\n",
    "    key = cv.waitKey(1)\n",
    "    if mode == \"stop\":\n",
    "        break\n",
    "cap.release()\n",
    "cv.destroyAllWindows()"
   ]
  }
 ],
 "metadata": {
  "kernelspec": {
   "display_name": "motion-tracking-venv",
   "language": "python",
   "name": "python3"
  },
  "language_info": {
   "codemirror_mode": {
    "name": "ipython",
    "version": 3
   },
   "file_extension": ".py",
   "mimetype": "text/x-python",
   "name": "python",
   "nbconvert_exporter": "python",
   "pygments_lexer": "ipython3",
   "version": "3.11.0"
  }
 },
 "nbformat": 4,
 "nbformat_minor": 2
}
